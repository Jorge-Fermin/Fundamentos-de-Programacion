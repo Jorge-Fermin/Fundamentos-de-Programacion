{
 "cells": [
  {
   "cell_type": "markdown",
   "metadata": {},
   "source": [
    "### Operadores Logicos"
   ]
  },
  {
   "cell_type": "code",
   "execution_count": null,
   "metadata": {},
   "outputs": [
    {
     "name": "stdout",
     "output_type": "stream",
     "text": [
      "False\n",
      "True\n",
      "True\n"
     ]
    }
   ],
   "source": [
    "print (True and False) # and es un operador logico que devuelve True si ambos valores son True\n",
    "print (True or False) # or es un operador logico que devuelve True si alguno de los valores es True\n",
    "print (not False) # not es un operador logico que niega el valor de la variable"
   ]
  },
  {
   "cell_type": "code",
   "execution_count": null,
   "metadata": {},
   "outputs": [
    {
     "name": "stdout",
     "output_type": "stream",
     "text": [
      "hugo\n",
      "<class 'str'>\n"
     ]
    },
    {
     "data": {
      "text/plain": [
       "'HUGO'"
      ]
     },
     "metadata": {},
     "output_type": "display_data"
    }
   ],
   "source": [
    "nombre: str = \"hugo\" # Todas son tipo objeto (todas las clases y objetos tienen propiedades y metodos) # str es un tipo de dato string.\n",
    "print (nombre) \n",
    "print (type(nombre))\n",
    "nombre.capitalize() # .capitalize() es un metodo de la clase str que convierte el primer caracter en mayuscula.\n",
    "nombre.upper() # .upper() es un metodo de la clase str que convierte el string en mayusculas."
   ]
  },
  {
   "cell_type": "markdown",
   "metadata": {},
   "source": [
    "### Cadena: Srting\n",
    "\n"
   ]
  },
  {
   "cell_type": "code",
   "execution_count": null,
   "metadata": {},
   "outputs": [
    {
     "name": "stdout",
     "output_type": "stream",
     "text": [
      "10--3.14--True--Hugo\n"
     ]
    }
   ],
   "source": [
    "num: int = 10 # int es un tipo de dato entero. num es una variable que hace referencia a un int.\n",
    "\n",
    "pi:float = 3.14  # float es un tipo de dato flotante. pi es una variable que hace referencia a un float.\n",
    "\n",
    "es_alumno: bool = True # es_alumno es una variable que hace referencia a un booleano.\n",
    "\n",
    "name: str = 'Hugo' # name es una variable que hace referencia a un string.\n",
    "\n",
    "print(f'{num}--{pi}--{es_alumno}--{name}')  # f'' es un string formateado, es decir, se puede poner variables dentro de un string.  # {} es un placeholder, es decir, un espacio reservado para una variable."
   ]
  },
  {
   "cell_type": "markdown",
   "metadata": {},
   "source": [
    "#### Conceptos de Python para la aplicación del paradigma funcional"
   ]
  },
  {
   "cell_type": "code",
   "execution_count": null,
   "metadata": {},
   "outputs": [
    {
     "data": {
      "text/plain": [
       "int"
      ]
     },
     "metadata": {},
     "output_type": "display_data"
    }
   ],
   "source": [
    "type (5)"
   ]
  },
  {
   "cell_type": "code",
   "execution_count": null,
   "metadata": {},
   "outputs": [
    {
     "data": {
      "text/plain": [
       "str"
      ]
     },
     "metadata": {},
     "output_type": "display_data"
    }
   ],
   "source": [
    "type (\"hola\")"
   ]
  },
  {
   "cell_type": "code",
   "execution_count": null,
   "metadata": {},
   "outputs": [
    {
     "data": {
      "text/plain": [
       "float"
      ]
     },
     "metadata": {},
     "output_type": "display_data"
    }
   ],
   "source": [
    "type (3.1416)"
   ]
  },
  {
   "cell_type": "code",
   "execution_count": null,
   "metadata": {},
   "outputs": [
    {
     "data": {
      "text/plain": [
       "complex"
      ]
     },
     "metadata": {},
     "output_type": "display_data"
    }
   ],
   "source": [
    "complejo = 5 + 5j # j es un número imaginario es cunado el tipo de dato es complejo.\n",
    "type(complejo)"
   ]
  },
  {
   "cell_type": "code",
   "execution_count": null,
   "metadata": {},
   "outputs": [
    {
     "data": {
      "text/plain": [
       "float"
      ]
     },
     "metadata": {},
     "output_type": "display_data"
    }
   ],
   "source": [
    "type(3.14e-10)"
   ]
  },
  {
   "cell_type": "code",
   "execution_count": null,
   "metadata": {},
   "outputs": [],
   "source": [
    "# hints o pistas\n",
    "numero: int = 10\n",
    "numero = \"dos\"\n",
    "# analisis estatico de codigo (clase-2)"
   ]
  },
  {
   "cell_type": "code",
   "execution_count": null,
   "metadata": {},
   "outputs": [
    {
     "data": {
      "text/plain": [
       "'par'"
      ]
     },
     "metadata": {},
     "output_type": "display_data"
    }
   ],
   "source": [
    "n = 0\n",
    "num = int (input(\"dame un numero entero positivo\")) # \n",
    "if n%2 == 0:\n",
    "    num = \"par\"\n",
    "else: \n",
    "    num = \"impar\"\n",
    "\n",
    "num"
   ]
  },
  {
   "cell_type": "code",
   "execution_count": null,
   "metadata": {},
   "outputs": [
    {
     "data": {
      "text/plain": [
       "'par'"
      ]
     },
     "metadata": {},
     "output_type": "display_data"
    }
   ],
   "source": [
    "n = int(input(\"dame un numero entero positivo\"))\n",
    "(num:= \"par\" if n%2 == 0 else \"impar\") # operador ternario, operador morsa. todo la expresion tiene que estar conenida entre parentesis\n",
    "num"
   ]
  },
  {
   "cell_type": "code",
   "execution_count": null,
   "metadata": {},
   "outputs": [
    {
     "data": {
      "text/plain": [
       "'impar'"
      ]
     },
     "metadata": {},
     "output_type": "display_data"
    }
   ],
   "source": [
    "(num:= \"par\" if int(input(\"dame un numero entero positivo\"))%2 == 0 else \"impar\" )\n",
    "num"
   ]
  },
  {
   "cell_type": "code",
   "execution_count": null,
   "metadata": {},
   "outputs": [
    {
     "name": "stdout",
     "output_type": "stream",
     "text": [
      "num_int: 3\n",
      "num_int: 3\n",
      "num_str: 3.14\n"
     ]
    },
    {
     "data": {
      "text/plain": [
       "'3.14'"
      ]
     },
     "metadata": {},
     "output_type": "display_data"
    }
   ],
   "source": [
    "# casting\n",
    "# conversion de tipos \n",
    "num_str = \"3\"\n",
    "num_int = int(num_str)\n",
    "print(f\"num_int: {num_int}\") #(fstrings) permite poder insertar variables a nuestro string\n",
    "\n",
    "num_float = 3.14\n",
    "num_int = int(num_float)\n",
    "print(f\"num_int: {num_int}\")\n",
    "\n",
    "num_str = str(num_float)\n",
    "print(f\"num_str: {num_str}\")\n",
    "num_str"
   ]
  },
  {
   "cell_type": "markdown",
   "metadata": {},
   "source": []
  },
  {
   "cell_type": "markdown",
   "metadata": {},
   "source": [
    "### Condicionales"
   ]
  },
  {
   "cell_type": "code",
   "execution_count": null,
   "metadata": {},
   "outputs": [
    {
     "name": "stdout",
     "output_type": "stream",
     "text": [
      "10<20\n"
     ]
    }
   ],
   "source": [
    "n1 = 10\n",
    "n2 = 20\n",
    "if n1 > n2: # if es un condicional, es decir, si se cumple la condicion se ejecuta el codigo.\n",
    "    print (f\"{n1}>{n2}\")\n",
    "else: # else es un condicional, es decir, si no se cumple la condicion se ejecuta el codigo.\n",
    "    print(f\"{n1}<{n2}\")"
   ]
  },
  {
   "cell_type": "code",
   "execution_count": null,
   "metadata": {},
   "outputs": [
    {
     "name": "stdout",
     "output_type": "stream",
     "text": [
      "acabas de llegar a la mayoria de edad\n"
     ]
    }
   ],
   "source": [
    "edad: int = 18\n",
    "\n",
    "if edad > 18:\n",
    "    print(\"mayor de edad\")\n",
    "elif edad == 18: \n",
    "    print(\"acabas de llegar a la mayoria de edad\")\n",
    "else:\n",
    "    print(\"eres menor de edad\")"
   ]
  },
  {
   "cell_type": "code",
   "execution_count": null,
   "metadata": {},
   "outputs": [
    {
     "name": "stdout",
     "output_type": "stream",
     "text": [
      "Acabas de llegar a la mayoría de edad\n"
     ]
    }
   ],
   "source": [
    "edad = 18  \n",
    "match edad: # match es un switch case\n",
    "    case 18: # si edad es igual a 18 entonces:\n",
    "        print(\"Acabas de llegar a la mayoría de edad\")\n",
    "    case _ if edad > 18: # _ es un comodin, es decir, cualquier valor que no este especificado en los casos anteriores. if edad > 18 es una condicion que se tiene que cumplir para que se ejecute el codigo.\n",
    "        print(\"Ya eres mayor de edad\")\n",
    "    case _: # \n",
    "        print(\"Eres menor de edad\")\n"
   ]
  },
  {
   "cell_type": "markdown",
   "metadata": {},
   "source": [
    "### Tuplas "
   ]
  },
  {
   "cell_type": "code",
   "execution_count": null,
   "metadata": {},
   "outputs": [
    {
     "name": "stdout",
     "output_type": "stream",
     "text": [
      "1\n"
     ]
    },
    {
     "data": {
      "text/plain": [
       "(1, 2, 3, 4, 5, True, 4.5, 'Hola', [1, 2, 3], 1, 2, 3)"
      ]
     },
     "metadata": {},
     "output_type": "display_data"
    }
   ],
   "source": [
    "tuplas_funciones = (suma, resta, multiplicacion, division) # tupla de funciones.\n",
    "print(tuplas_funciones[1](5,4))  # imprime la funcion en la posicion 1 de la tupla y le pasa los parametros 5 y 4.\n",
    "\n",
    "tupla = (1,2,3,4,5, True, 4.5, \"Hola\", [1,2,3]) # tupla de datos.\n",
    "tupla.__add__((1,2,3)) # agrega una tupla a otra tupla. __add__ es un metodo de la clase tuple."
   ]
  },
  {
   "cell_type": "markdown",
   "metadata": {},
   "source": []
  },
  {
   "cell_type": "markdown",
   "metadata": {},
   "source": [
    "### Range"
   ]
  },
  {
   "cell_type": "code",
   "execution_count": null,
   "metadata": {},
   "outputs": [
    {
     "name": "stdout",
     "output_type": "stream",
     "text": [
      "0123456789"
     ]
    }
   ],
   "source": [
    "# range permite crear desde el 0 hasta 1 menos\n",
    "\n",
    "numeros=range(10) # crea una lista de numeros del 0 al 9.\n",
    "\n",
    "for i in numeros: # imprime los numeros del 0 al 9. \n",
    "    print(i,end=\"\") # esto es para uqe salga todo en un solo renglor.\n"
   ]
  },
  {
   "cell_type": "code",
   "execution_count": null,
   "metadata": {},
   "outputs": [
    {
     "data": {
      "text/plain": [
       "range(5, 10)"
      ]
     },
     "metadata": {},
     "output_type": "display_data"
    }
   ],
   "source": [
    "numeros = range(5,10) # crea una lista de numeros del 5 al 9.\n",
    "numeros "
   ]
  },
  {
   "cell_type": "code",
   "execution_count": null,
   "metadata": {},
   "outputs": [
    {
     "name": "stdout",
     "output_type": "stream",
     "text": [
      "5 6 7 8 9 "
     ]
    }
   ],
   "source": [
    "for i in numeros: # imprime los numeros del 5 al 9.\n",
    "    print(i,end=\" \") # esto es para que salga todo en un solo renglor y con un espacio entre cada numero."
   ]
  },
  {
   "cell_type": "code",
   "execution_count": null,
   "metadata": {},
   "outputs": [
    {
     "name": "stdout",
     "output_type": "stream",
     "text": [
      "2 4 6 8 10 "
     ]
    }
   ],
   "source": [
    "numeros_pares = range (2,11,2) # crea una lista de numeros pares del 2 al 10.\n",
    "for par in numeros_pares: # imprime los numeros pares del 2 al 10.\n",
    "    print(par,end=\" \") \n",
    "    "
   ]
  },
  {
   "cell_type": "code",
   "execution_count": null,
   "metadata": {},
   "outputs": [
    {
     "data": {
      "text/plain": [
       "89"
      ]
     },
     "metadata": {},
     "output_type": "display_data"
    }
   ],
   "source": [
    "lista = [3,6,7,40,34,67,89] # lista de numeros.\n",
    "max(lista) # max es un metodo de la clase list que regresa el numero mas grande de la lista."
   ]
  },
  {
   "cell_type": "code",
   "execution_count": null,
   "metadata": {},
   "outputs": [
    {
     "data": {
      "text/plain": [
       "3"
      ]
     },
     "metadata": {},
     "output_type": "display_data"
    }
   ],
   "source": [
    "min(lista) # min es un metodo de la clase list que regresa el numero mas pequeño de la lista."
   ]
  },
  {
   "cell_type": "code",
   "execution_count": null,
   "metadata": {},
   "outputs": [
    {
     "data": {
      "text/plain": [
       "246"
      ]
     },
     "metadata": {},
     "output_type": "display_data"
    }
   ],
   "source": [
    "sum(lista) # sum es un metodo de la clase list que regresa la suma de todos los numeros de la lista."
   ]
  },
  {
   "cell_type": "code",
   "execution_count": null,
   "metadata": {},
   "outputs": [
    {
     "data": {
      "text/plain": [
       "[3, 6, 7, 34, 40, 67, 89]"
      ]
     },
     "metadata": {},
     "output_type": "display_data"
    }
   ],
   "source": [
    "sorted(lista) # sorted es un metodo de la clase list que regresa una lista ordenada de menor a mayor."
   ]
  },
  {
   "cell_type": "code",
   "execution_count": null,
   "metadata": {},
   "outputs": [],
   "source": [
    "lista.sort() # sort es un metodo de la clase list que ordena la lista de menor a mayor. \n"
   ]
  },
  {
   "cell_type": "code",
   "execution_count": null,
   "metadata": {},
   "outputs": [
    {
     "name": "stdout",
     "output_type": "stream",
     "text": [
      "None\n"
     ]
    }
   ],
   "source": [
    "print (lista.sort()) # imprime none porque sort no regresa nada."
   ]
  },
  {
   "cell_type": "code",
   "execution_count": null,
   "metadata": {},
   "outputs": [
    {
     "data": {
      "text/plain": [
       "[89, 67, 40, 34, 7, 6, 3]"
      ]
     },
     "metadata": {},
     "output_type": "display_data"
    }
   ],
   "source": [
    "lista.sort(reverse=True) # operadores no estan definida \n",
    "lista"
   ]
  },
  {
   "cell_type": "markdown",
   "metadata": {},
   "source": [
    "### Set conjuntos"
   ]
  },
  {
   "cell_type": "code",
   "execution_count": null,
   "metadata": {},
   "outputs": [
    {
     "data": {
      "text/plain": [
       "{1, 2, 3, 4}"
      ]
     },
     "metadata": {},
     "output_type": "display_data"
    }
   ],
   "source": [
    "mi_set = {1,2,3,4,4,4,4} # set es un tipo de dato que no permite valores repetidos. mi_set es una variable que hace referencia a un set.\n",
    "mi_set  # imprime el set sin valores repetidos."
   ]
  },
  {
   "cell_type": "code",
   "execution_count": null,
   "metadata": {},
   "outputs": [
    {
     "data": {
      "text/plain": [
       "[1, 2, 3, 4, 5, 6]"
      ]
     },
     "metadata": {},
     "output_type": "display_data"
    }
   ],
   "source": [
    "data = [3,2,1,2,3,4,2,1,2,3,4,5,6,4,3,2]\n",
    "list (set(data)) # set elimina los repetidos y list los convierte en una lista."
   ]
  },
  {
   "cell_type": "code",
   "execution_count": null,
   "metadata": {},
   "outputs": [
    {
     "data": {
      "text/plain": [
       "{1, 2, 3, 4, 56, 57, 58}"
      ]
     },
     "metadata": {},
     "output_type": "display_data"
    }
   ],
   "source": [
    "data2 = {1,56,57,3,58} \n",
    "\n",
    "mi_set.union(data2) # une dos sets y elimina los repetidos. .union es un metodo de la clase set."
   ]
  },
  {
   "cell_type": "markdown",
   "metadata": {},
   "source": [
    "### Diccionario"
   ]
  },
  {
   "cell_type": "code",
   "execution_count": null,
   "metadata": {},
   "outputs": [
    {
     "data": {
      "text/plain": [
       "'valor'"
      ]
     },
     "metadata": {},
     "output_type": "display_data"
    }
   ],
   "source": [
    "mi_dict = {\"llave\": \"valor\"} # dict es un tipo de dato que tiene una llave y un valor. mi_dict es una variable que hace referencia a un dict.\n",
    "mi_dict [\"llave\"] # imprime el valor de la llave."
   ]
  },
  {
   "cell_type": "code",
   "execution_count": null,
   "metadata": {},
   "outputs": [
    {
     "data": {
      "text/plain": [
       "dict_keys(['llave'])"
      ]
     },
     "metadata": {},
     "output_type": "display_data"
    }
   ],
   "source": [
    "mi_dict.keys() # keys es un metodo de la clase dict que regresa todas las llaves del dict.\n"
   ]
  },
  {
   "cell_type": "code",
   "execution_count": null,
   "metadata": {},
   "outputs": [
    {
     "data": {
      "text/plain": [
       "dict_values(['valor'])"
      ]
     },
     "metadata": {},
     "output_type": "display_data"
    }
   ],
   "source": [
    "mi_dict.values() # values es un metodo de la clase dict que regresa todos los valores del dict."
   ]
  },
  {
   "cell_type": "code",
   "execution_count": null,
   "metadata": {},
   "outputs": [
    {
     "name": "stdout",
     "output_type": "stream",
     "text": [
      "1\n",
      "2\n",
      "3\n",
      "4\n",
      "Monday\n",
      "Tuersday\n",
      "Wendnesday\n",
      "Thursday\n",
      "Saturday\n",
      "Sundat\n",
      "1\n",
      "2\n",
      "3\n",
      "4\n",
      "5\n",
      "6\n",
      "Monday 1\n",
      "Tuersday 2\n",
      "Wendnesday 3\n",
      "Thursday 4\n",
      "Saturday 5\n",
      "Sundat 6\n",
      "Monday = 1\n",
      "Tuersday = 2\n",
      "Wendnesday = 3\n",
      "Thursday = 4\n",
      "Saturday = 5\n",
      "Sundat = 6\n"
     ]
    }
   ],
   "source": [
    "days_of_week = {\n",
    "    \"Monday\": 1,\n",
    "    \"Tuersday\": 2,\n",
    "    \"Wendnesday\": 3,\n",
    "    \"Thursday\": 4,\n",
    "    \"Saturday\": 5,\n",
    "    \"Sunday\": 6\n",
    "}\n",
    "\n",
    "for e in mi_set:\n",
    "    print(e)\n",
    "\n",
    "for key in days_of_week.keys():\n",
    "    print(key)\n",
    "\n",
    "for value in days_of_week.values():\n",
    "    print(value)\n",
    "\n",
    "for key, value in days_of_week.items():\n",
    "    print(key, value)\n",
    "\n",
    "for key, value in days_of_week.items():\n",
    "    print(f'{key} = {value}')"
   ]
  },
  {
   "cell_type": "markdown",
   "metadata": {},
   "source": [
    "instalar \n",
    "streamlit\n",
    "guizero"
   ]
  }
 ],
 "metadata": {
  "kernelspec": {
   "display_name": "Python 3",
   "language": "python",
   "name": "python3"
  },
  "language_info": {
   "codemirror_mode": {
    "name": "ipython",
    "version": 3
   },
   "file_extension": ".py",
   "mimetype": "text/x-python",
   "name": "python",
   "nbconvert_exporter": "python",
   "pygments_lexer": "ipython3",
   "version": "3.11.5"
  }
 },
 "nbformat": 4,
 "nbformat_minor": 2
}
